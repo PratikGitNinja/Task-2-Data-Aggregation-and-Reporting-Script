{
 "cells": [
  {
   "cell_type": "code",
   "execution_count": 49,
   "id": "536c2099-589c-4df3-bd28-d51858a0923e",
   "metadata": {},
   "outputs": [],
   "source": [
    "import pandas as pd\n",
    "import matplotlib.pyplot as plt\n",
    "import seaborn as sns"
   ]
  },
  {
   "cell_type": "markdown",
   "id": "80b89764-9301-4595-8acd-d150dd11e34f",
   "metadata": {},
   "source": [
    "#### **Read the sales data:**"
   ]
  },
  {
   "cell_type": "code",
   "execution_count": 50,
   "id": "62cb2cc1-afc1-457d-876e-cd01303cf625",
   "metadata": {},
   "outputs": [],
   "source": [
    "sale_df = pd.read_csv(\"sales_data.csv\")"
   ]
  },
  {
   "cell_type": "code",
   "execution_count": 51,
   "id": "70899361-a62f-41ee-9f17-003b5adb76ca",
   "metadata": {},
   "outputs": [
    {
     "data": {
      "text/html": [
       "<div>\n",
       "<style scoped>\n",
       "    .dataframe tbody tr th:only-of-type {\n",
       "        vertical-align: middle;\n",
       "    }\n",
       "\n",
       "    .dataframe tbody tr th {\n",
       "        vertical-align: top;\n",
       "    }\n",
       "\n",
       "    .dataframe thead th {\n",
       "        text-align: right;\n",
       "    }\n",
       "</style>\n",
       "<table border=\"1\" class=\"dataframe\">\n",
       "  <thead>\n",
       "    <tr style=\"text-align: right;\">\n",
       "      <th></th>\n",
       "      <th>TransactionID</th>\n",
       "      <th>CustomerID</th>\n",
       "      <th>ProductID</th>\n",
       "      <th>Quantity</th>\n",
       "      <th>Price</th>\n",
       "      <th>TransactionDate</th>\n",
       "    </tr>\n",
       "  </thead>\n",
       "  <tbody>\n",
       "    <tr>\n",
       "      <th>0</th>\n",
       "      <td>1</td>\n",
       "      <td>101</td>\n",
       "      <td>5001</td>\n",
       "      <td>2</td>\n",
       "      <td>20.0</td>\n",
       "      <td>2024-01-15</td>\n",
       "    </tr>\n",
       "    <tr>\n",
       "      <th>1</th>\n",
       "      <td>2</td>\n",
       "      <td>102</td>\n",
       "      <td>5002</td>\n",
       "      <td>1</td>\n",
       "      <td>50.0</td>\n",
       "      <td>2024-01-16</td>\n",
       "    </tr>\n",
       "    <tr>\n",
       "      <th>2</th>\n",
       "      <td>3</td>\n",
       "      <td>103</td>\n",
       "      <td>5001</td>\n",
       "      <td>5</td>\n",
       "      <td>20.0</td>\n",
       "      <td>2024-01-17</td>\n",
       "    </tr>\n",
       "    <tr>\n",
       "      <th>3</th>\n",
       "      <td>4</td>\n",
       "      <td>101</td>\n",
       "      <td>5003</td>\n",
       "      <td>3</td>\n",
       "      <td>30.0</td>\n",
       "      <td>2024-01-18</td>\n",
       "    </tr>\n",
       "    <tr>\n",
       "      <th>4</th>\n",
       "      <td>5</td>\n",
       "      <td>104</td>\n",
       "      <td>5002</td>\n",
       "      <td>1</td>\n",
       "      <td>50.0</td>\n",
       "      <td>2024-01-19</td>\n",
       "    </tr>\n",
       "  </tbody>\n",
       "</table>\n",
       "</div>"
      ],
      "text/plain": [
       "   TransactionID  CustomerID  ProductID  Quantity  Price TransactionDate\n",
       "0              1         101       5001         2   20.0      2024-01-15\n",
       "1              2         102       5002         1   50.0      2024-01-16\n",
       "2              3         103       5001         5   20.0      2024-01-17\n",
       "3              4         101       5003         3   30.0      2024-01-18\n",
       "4              5         104       5002         1   50.0      2024-01-19"
      ]
     },
     "execution_count": 51,
     "metadata": {},
     "output_type": "execute_result"
    }
   ],
   "source": [
    "sale_df.head()"
   ]
  },
  {
   "cell_type": "markdown",
   "id": "0205832d-07d0-4163-a660-32afc14ef984",
   "metadata": {},
   "source": [
    "## **Data Aggregation:**"
   ]
  },
  {
   "cell_type": "markdown",
   "id": "3b62dafe-9e5a-4c65-8048-042479fa9a0b",
   "metadata": {},
   "source": [
    "#### **Calculate total sales amount for each product:**"
   ]
  },
  {
   "cell_type": "code",
   "execution_count": 52,
   "id": "e36c8ab1-9ad1-4579-bc59-430d19abcfb8",
   "metadata": {},
   "outputs": [],
   "source": [
    "sale_df['TotalSales'] = sale_df['Price']*sale_df['Quantity']"
   ]
  },
  {
   "cell_type": "code",
   "execution_count": 53,
   "id": "4ce3ec42-e1ee-4160-9a54-7f98d0fd27fc",
   "metadata": {},
   "outputs": [],
   "source": [
    "total_sales_each_product = sale_df.groupby('ProductID')['TotalSales'].sum().reset_index()"
   ]
  },
  {
   "cell_type": "code",
   "execution_count": 54,
   "id": "41471f42-7450-461f-8243-e2429c28fc45",
   "metadata": {},
   "outputs": [
    {
     "data": {
      "text/html": [
       "<div>\n",
       "<style scoped>\n",
       "    .dataframe tbody tr th:only-of-type {\n",
       "        vertical-align: middle;\n",
       "    }\n",
       "\n",
       "    .dataframe tbody tr th {\n",
       "        vertical-align: top;\n",
       "    }\n",
       "\n",
       "    .dataframe thead th {\n",
       "        text-align: right;\n",
       "    }\n",
       "</style>\n",
       "<table border=\"1\" class=\"dataframe\">\n",
       "  <thead>\n",
       "    <tr style=\"text-align: right;\">\n",
       "      <th></th>\n",
       "      <th>ProductID</th>\n",
       "      <th>TotalSales</th>\n",
       "    </tr>\n",
       "  </thead>\n",
       "  <tbody>\n",
       "    <tr>\n",
       "      <th>0</th>\n",
       "      <td>5001</td>\n",
       "      <td>240.0</td>\n",
       "    </tr>\n",
       "    <tr>\n",
       "      <th>1</th>\n",
       "      <td>5002</td>\n",
       "      <td>100.0</td>\n",
       "    </tr>\n",
       "    <tr>\n",
       "      <th>2</th>\n",
       "      <td>5003</td>\n",
       "      <td>120.0</td>\n",
       "    </tr>\n",
       "    <tr>\n",
       "      <th>3</th>\n",
       "      <td>5004</td>\n",
       "      <td>100.0</td>\n",
       "    </tr>\n",
       "    <tr>\n",
       "      <th>4</th>\n",
       "      <td>5005</td>\n",
       "      <td>90.0</td>\n",
       "    </tr>\n",
       "  </tbody>\n",
       "</table>\n",
       "</div>"
      ],
      "text/plain": [
       "   ProductID  TotalSales\n",
       "0       5001       240.0\n",
       "1       5002       100.0\n",
       "2       5003       120.0\n",
       "3       5004       100.0\n",
       "4       5005        90.0"
      ]
     },
     "execution_count": 54,
     "metadata": {},
     "output_type": "execute_result"
    }
   ],
   "source": [
    "total_sales_each_product"
   ]
  },
  {
   "cell_type": "markdown",
   "id": "f3af03ad-69b5-467e-8468-bcce26cdcf2e",
   "metadata": {},
   "source": [
    "#### **Calculate the total quantity sold for each product:**"
   ]
  },
  {
   "cell_type": "code",
   "execution_count": 55,
   "id": "f8257490-c1f2-4fd2-9be6-f7bdd9316ddb",
   "metadata": {},
   "outputs": [],
   "source": [
    "total_quantity_each_product = sale_df.groupby('ProductID')['Quantity'].sum().reset_index()"
   ]
  },
  {
   "cell_type": "code",
   "execution_count": 56,
   "id": "7cf391e5-264b-409e-92a5-8ec6eb72799c",
   "metadata": {},
   "outputs": [
    {
     "data": {
      "text/html": [
       "<div>\n",
       "<style scoped>\n",
       "    .dataframe tbody tr th:only-of-type {\n",
       "        vertical-align: middle;\n",
       "    }\n",
       "\n",
       "    .dataframe tbody tr th {\n",
       "        vertical-align: top;\n",
       "    }\n",
       "\n",
       "    .dataframe thead th {\n",
       "        text-align: right;\n",
       "    }\n",
       "</style>\n",
       "<table border=\"1\" class=\"dataframe\">\n",
       "  <thead>\n",
       "    <tr style=\"text-align: right;\">\n",
       "      <th></th>\n",
       "      <th>ProductID</th>\n",
       "      <th>Quantity</th>\n",
       "    </tr>\n",
       "  </thead>\n",
       "  <tbody>\n",
       "    <tr>\n",
       "      <th>0</th>\n",
       "      <td>5001</td>\n",
       "      <td>12</td>\n",
       "    </tr>\n",
       "    <tr>\n",
       "      <th>1</th>\n",
       "      <td>5002</td>\n",
       "      <td>2</td>\n",
       "    </tr>\n",
       "    <tr>\n",
       "      <th>2</th>\n",
       "      <td>5003</td>\n",
       "      <td>4</td>\n",
       "    </tr>\n",
       "    <tr>\n",
       "      <th>3</th>\n",
       "      <td>5004</td>\n",
       "      <td>4</td>\n",
       "    </tr>\n",
       "    <tr>\n",
       "      <th>4</th>\n",
       "      <td>5005</td>\n",
       "      <td>6</td>\n",
       "    </tr>\n",
       "  </tbody>\n",
       "</table>\n",
       "</div>"
      ],
      "text/plain": [
       "   ProductID  Quantity\n",
       "0       5001        12\n",
       "1       5002         2\n",
       "2       5003         4\n",
       "3       5004         4\n",
       "4       5005         6"
      ]
     },
     "execution_count": 56,
     "metadata": {},
     "output_type": "execute_result"
    }
   ],
   "source": [
    "total_quantity_each_product"
   ]
  },
  {
   "cell_type": "markdown",
   "id": "49712b07-af5b-49c7-b196-ce1952fbd070",
   "metadata": {},
   "source": [
    "#### **Calculate the average transaction amount per customer:**"
   ]
  },
  {
   "cell_type": "code",
   "execution_count": 57,
   "id": "1e7d268d-d60f-40f9-b77a-d4439b9e2653",
   "metadata": {},
   "outputs": [],
   "source": [
    "average_transaction_per_customer = sale_df.groupby('CustomerID')['TotalSales'].sum().reset_index()"
   ]
  },
  {
   "cell_type": "code",
   "execution_count": 58,
   "id": "3d7cf9b0-651a-46e2-ab44-ad4ff7294143",
   "metadata": {},
   "outputs": [
    {
     "data": {
      "text/html": [
       "<div>\n",
       "<style scoped>\n",
       "    .dataframe tbody tr th:only-of-type {\n",
       "        vertical-align: middle;\n",
       "    }\n",
       "\n",
       "    .dataframe tbody tr th {\n",
       "        vertical-align: top;\n",
       "    }\n",
       "\n",
       "    .dataframe thead th {\n",
       "        text-align: right;\n",
       "    }\n",
       "</style>\n",
       "<table border=\"1\" class=\"dataframe\">\n",
       "  <thead>\n",
       "    <tr style=\"text-align: right;\">\n",
       "      <th></th>\n",
       "      <th>CustomerID</th>\n",
       "      <th>TotalSales</th>\n",
       "    </tr>\n",
       "  </thead>\n",
       "  <tbody>\n",
       "    <tr>\n",
       "      <th>0</th>\n",
       "      <td>101</td>\n",
       "      <td>130.0</td>\n",
       "    </tr>\n",
       "    <tr>\n",
       "      <th>1</th>\n",
       "      <td>102</td>\n",
       "      <td>90.0</td>\n",
       "    </tr>\n",
       "    <tr>\n",
       "      <th>2</th>\n",
       "      <td>103</td>\n",
       "      <td>130.0</td>\n",
       "    </tr>\n",
       "    <tr>\n",
       "      <th>3</th>\n",
       "      <td>104</td>\n",
       "      <td>50.0</td>\n",
       "    </tr>\n",
       "    <tr>\n",
       "      <th>4</th>\n",
       "      <td>105</td>\n",
       "      <td>100.0</td>\n",
       "    </tr>\n",
       "    <tr>\n",
       "      <th>5</th>\n",
       "      <td>106</td>\n",
       "      <td>90.0</td>\n",
       "    </tr>\n",
       "    <tr>\n",
       "      <th>6</th>\n",
       "      <td>107</td>\n",
       "      <td>60.0</td>\n",
       "    </tr>\n",
       "  </tbody>\n",
       "</table>\n",
       "</div>"
      ],
      "text/plain": [
       "   CustomerID  TotalSales\n",
       "0         101       130.0\n",
       "1         102        90.0\n",
       "2         103       130.0\n",
       "3         104        50.0\n",
       "4         105       100.0\n",
       "5         106        90.0\n",
       "6         107        60.0"
      ]
     },
     "execution_count": 58,
     "metadata": {},
     "output_type": "execute_result"
    }
   ],
   "source": [
    "average_transaction_per_customer"
   ]
  },
  {
   "cell_type": "markdown",
   "id": "d7dbe284-4d7c-46d2-9745-15e37b40217c",
   "metadata": {},
   "source": [
    "## **Generation a Summary Report:**"
   ]
  },
  {
   "cell_type": "markdown",
   "id": "0036cf74-d157-4a86-80ff-b6eb93bfcb7e",
   "metadata": {},
   "source": [
    "#### **Total sales amount and quantity sold for each product:**"
   ]
  },
  {
   "cell_type": "code",
   "execution_count": 59,
   "id": "b201c78d-a352-4b1a-b138-9c4b56b2ba86",
   "metadata": {},
   "outputs": [],
   "source": [
    "summ_total_sales_quantity_each_product = sale_df.groupby('ProductID').agg(\n",
    "    TotalSalesAmount = ('TotalSales','sum'),\n",
    "TotalQuantitySold = ('Quantity','sum')\n",
    ").reset_index()"
   ]
  },
  {
   "cell_type": "code",
   "execution_count": 60,
   "id": "fdd330fb-7915-4001-9ef4-2906b899537e",
   "metadata": {},
   "outputs": [
    {
     "data": {
      "text/html": [
       "<div>\n",
       "<style scoped>\n",
       "    .dataframe tbody tr th:only-of-type {\n",
       "        vertical-align: middle;\n",
       "    }\n",
       "\n",
       "    .dataframe tbody tr th {\n",
       "        vertical-align: top;\n",
       "    }\n",
       "\n",
       "    .dataframe thead th {\n",
       "        text-align: right;\n",
       "    }\n",
       "</style>\n",
       "<table border=\"1\" class=\"dataframe\">\n",
       "  <thead>\n",
       "    <tr style=\"text-align: right;\">\n",
       "      <th></th>\n",
       "      <th>ProductID</th>\n",
       "      <th>TotalSalesAmount</th>\n",
       "      <th>TotalQuantitySold</th>\n",
       "    </tr>\n",
       "  </thead>\n",
       "  <tbody>\n",
       "    <tr>\n",
       "      <th>0</th>\n",
       "      <td>5001</td>\n",
       "      <td>240.0</td>\n",
       "      <td>12</td>\n",
       "    </tr>\n",
       "    <tr>\n",
       "      <th>1</th>\n",
       "      <td>5002</td>\n",
       "      <td>100.0</td>\n",
       "      <td>2</td>\n",
       "    </tr>\n",
       "    <tr>\n",
       "      <th>2</th>\n",
       "      <td>5003</td>\n",
       "      <td>120.0</td>\n",
       "      <td>4</td>\n",
       "    </tr>\n",
       "    <tr>\n",
       "      <th>3</th>\n",
       "      <td>5004</td>\n",
       "      <td>100.0</td>\n",
       "      <td>4</td>\n",
       "    </tr>\n",
       "    <tr>\n",
       "      <th>4</th>\n",
       "      <td>5005</td>\n",
       "      <td>90.0</td>\n",
       "      <td>6</td>\n",
       "    </tr>\n",
       "  </tbody>\n",
       "</table>\n",
       "</div>"
      ],
      "text/plain": [
       "   ProductID  TotalSalesAmount  TotalQuantitySold\n",
       "0       5001             240.0                 12\n",
       "1       5002             100.0                  2\n",
       "2       5003             120.0                  4\n",
       "3       5004             100.0                  4\n",
       "4       5005              90.0                  6"
      ]
     },
     "execution_count": 60,
     "metadata": {},
     "output_type": "execute_result"
    }
   ],
   "source": [
    "summ_total_sales_quantity_each_product"
   ]
  },
  {
   "cell_type": "markdown",
   "id": "bf05376f-3b98-4629-b519-0499903cbc76",
   "metadata": {},
   "source": [
    "#### **Average transaction amount per customer:**"
   ]
  },
  {
   "cell_type": "code",
   "execution_count": 67,
   "id": "3e78bfc3-edb7-487f-b6c2-a8e91523a1e3",
   "metadata": {},
   "outputs": [],
   "source": [
    "summ_avg_trans_per_cust = sale_df.groupby('CustomerID').agg(\n",
    "    AvgSalesPerCust = ('TotalSales','mean')\n",
    ").reset_index()"
   ]
  },
  {
   "cell_type": "code",
   "execution_count": 68,
   "id": "3ca2f06b-e299-48da-9600-c4f6291968eb",
   "metadata": {},
   "outputs": [
    {
     "data": {
      "text/html": [
       "<div>\n",
       "<style scoped>\n",
       "    .dataframe tbody tr th:only-of-type {\n",
       "        vertical-align: middle;\n",
       "    }\n",
       "\n",
       "    .dataframe tbody tr th {\n",
       "        vertical-align: top;\n",
       "    }\n",
       "\n",
       "    .dataframe thead th {\n",
       "        text-align: right;\n",
       "    }\n",
       "</style>\n",
       "<table border=\"1\" class=\"dataframe\">\n",
       "  <thead>\n",
       "    <tr style=\"text-align: right;\">\n",
       "      <th></th>\n",
       "      <th>CustomerID</th>\n",
       "      <th>AvgSalesPerCust</th>\n",
       "    </tr>\n",
       "  </thead>\n",
       "  <tbody>\n",
       "    <tr>\n",
       "      <th>0</th>\n",
       "      <td>101</td>\n",
       "      <td>65.0</td>\n",
       "    </tr>\n",
       "    <tr>\n",
       "      <th>1</th>\n",
       "      <td>102</td>\n",
       "      <td>45.0</td>\n",
       "    </tr>\n",
       "    <tr>\n",
       "      <th>2</th>\n",
       "      <td>103</td>\n",
       "      <td>65.0</td>\n",
       "    </tr>\n",
       "    <tr>\n",
       "      <th>3</th>\n",
       "      <td>104</td>\n",
       "      <td>50.0</td>\n",
       "    </tr>\n",
       "    <tr>\n",
       "      <th>4</th>\n",
       "      <td>105</td>\n",
       "      <td>100.0</td>\n",
       "    </tr>\n",
       "    <tr>\n",
       "      <th>5</th>\n",
       "      <td>106</td>\n",
       "      <td>90.0</td>\n",
       "    </tr>\n",
       "    <tr>\n",
       "      <th>6</th>\n",
       "      <td>107</td>\n",
       "      <td>60.0</td>\n",
       "    </tr>\n",
       "  </tbody>\n",
       "</table>\n",
       "</div>"
      ],
      "text/plain": [
       "   CustomerID  AvgSalesPerCust\n",
       "0         101             65.0\n",
       "1         102             45.0\n",
       "2         103             65.0\n",
       "3         104             50.0\n",
       "4         105            100.0\n",
       "5         106             90.0\n",
       "6         107             60.0"
      ]
     },
     "execution_count": 68,
     "metadata": {},
     "output_type": "execute_result"
    }
   ],
   "source": [
    "summ_avg_trans_per_cust"
   ]
  },
  {
   "cell_type": "code",
   "execution_count": 69,
   "id": "fe7525ce-d918-48c3-8d41-5dbe1c6cc016",
   "metadata": {},
   "outputs": [
    {
     "data": {
      "text/html": [
       "<div>\n",
       "<style scoped>\n",
       "    .dataframe tbody tr th:only-of-type {\n",
       "        vertical-align: middle;\n",
       "    }\n",
       "\n",
       "    .dataframe tbody tr th {\n",
       "        vertical-align: top;\n",
       "    }\n",
       "\n",
       "    .dataframe thead th {\n",
       "        text-align: right;\n",
       "    }\n",
       "</style>\n",
       "<table border=\"1\" class=\"dataframe\">\n",
       "  <thead>\n",
       "    <tr style=\"text-align: right;\">\n",
       "      <th></th>\n",
       "      <th>TransactionID</th>\n",
       "      <th>CustomerID</th>\n",
       "      <th>ProductID</th>\n",
       "      <th>Quantity</th>\n",
       "      <th>Price</th>\n",
       "      <th>TransactionDate</th>\n",
       "      <th>TotalSales</th>\n",
       "    </tr>\n",
       "  </thead>\n",
       "  <tbody>\n",
       "    <tr>\n",
       "      <th>0</th>\n",
       "      <td>1</td>\n",
       "      <td>101</td>\n",
       "      <td>5001</td>\n",
       "      <td>2</td>\n",
       "      <td>20.0</td>\n",
       "      <td>2024-01-15</td>\n",
       "      <td>40.0</td>\n",
       "    </tr>\n",
       "    <tr>\n",
       "      <th>1</th>\n",
       "      <td>2</td>\n",
       "      <td>102</td>\n",
       "      <td>5002</td>\n",
       "      <td>1</td>\n",
       "      <td>50.0</td>\n",
       "      <td>2024-01-16</td>\n",
       "      <td>50.0</td>\n",
       "    </tr>\n",
       "    <tr>\n",
       "      <th>2</th>\n",
       "      <td>3</td>\n",
       "      <td>103</td>\n",
       "      <td>5001</td>\n",
       "      <td>5</td>\n",
       "      <td>20.0</td>\n",
       "      <td>2024-01-17</td>\n",
       "      <td>100.0</td>\n",
       "    </tr>\n",
       "    <tr>\n",
       "      <th>3</th>\n",
       "      <td>4</td>\n",
       "      <td>101</td>\n",
       "      <td>5003</td>\n",
       "      <td>3</td>\n",
       "      <td>30.0</td>\n",
       "      <td>2024-01-18</td>\n",
       "      <td>90.0</td>\n",
       "    </tr>\n",
       "    <tr>\n",
       "      <th>4</th>\n",
       "      <td>5</td>\n",
       "      <td>104</td>\n",
       "      <td>5002</td>\n",
       "      <td>1</td>\n",
       "      <td>50.0</td>\n",
       "      <td>2024-01-19</td>\n",
       "      <td>50.0</td>\n",
       "    </tr>\n",
       "  </tbody>\n",
       "</table>\n",
       "</div>"
      ],
      "text/plain": [
       "   TransactionID  CustomerID  ProductID  Quantity  Price TransactionDate  \\\n",
       "0              1         101       5001         2   20.0      2024-01-15   \n",
       "1              2         102       5002         1   50.0      2024-01-16   \n",
       "2              3         103       5001         5   20.0      2024-01-17   \n",
       "3              4         101       5003         3   30.0      2024-01-18   \n",
       "4              5         104       5002         1   50.0      2024-01-19   \n",
       "\n",
       "   TotalSales  \n",
       "0        40.0  \n",
       "1        50.0  \n",
       "2       100.0  \n",
       "3        90.0  \n",
       "4        50.0  "
      ]
     },
     "execution_count": 69,
     "metadata": {},
     "output_type": "execute_result"
    }
   ],
   "source": [
    "sale_df.head()"
   ]
  },
  {
   "cell_type": "markdown",
   "id": "17a32890-5949-454a-943a-d6ef58d5539a",
   "metadata": {},
   "source": [
    "## **Visualization:**"
   ]
  },
  {
   "cell_type": "markdown",
   "id": "d34ca850-0d2e-4431-b4f4-890fbb8d6a59",
   "metadata": {},
   "source": [
    "#### **sales distribution per product:**"
   ]
  },
  {
   "cell_type": "code",
   "execution_count": 74,
   "id": "11fbbe40-55d6-4287-8e4f-8d90ca6d441b",
   "metadata": {},
   "outputs": [
    {
     "data": {
      "text/plain": [
       "Text(0, 0.5, 'Quantity')"
      ]
     },
     "execution_count": 74,
     "metadata": {},
     "output_type": "execute_result"
    },
    {
     "data": {
      "image/png": "[encoded data removed]",
      "text/plain": [
       "<Figure size 640x480 with 1 Axes>"
      ]
     },
     "metadata": {},
     "output_type": "display_data"
    }
   ],
   "source": [
    "sns.barplot(x = 'ProductID' , y = 'Quantity', data = total_quantity_each_product)\n",
    "plt.xlabel('ProductID')\n",
    "plt.ylabel('Quantity')"
   ]
  },
  {
   "cell_type": "markdown",
   "id": "072f4fe0-dcba-4c4b-bf77-1ad02c034568",
   "metadata": {},
   "source": [
    "#### **average transaction amount per customer:**"
   ]
  },
  {
   "cell_type": "code",
   "execution_count": 72,
   "id": "276f771e-d918-46a2-9bac-020d977dff40",
   "metadata": {},
   "outputs": [
    {
     "data": {
      "text/plain": [
       "Text(0, 0.5, 'AvgSalesPerCust')"
      ]
     },
     "execution_count": 72,
     "metadata": {},
     "output_type": "execute_result"
    },
    {
     "data": {
      "image/png": "[encoded data removed]",
      "text/plain": [
       "<Figure size 640x480 with 1 Axes>"
      ]
     },
     "metadata": {},
     "output_type": "display_data"
    }
   ],
   "source": [
    "sns.barplot(x = 'CustomerID', y = 'AvgSalesPerCust', data = summ_avg_trans_per_cust)\n",
    "plt.xlabel(\"CustomerID\")\n",
    "plt.ylabel(\"AvgSalesPerCust\")"
   ]
  },
  {
   "cell_type": "markdown",
   "id": "e320d69d-b792-4e65-8aac-fe7ed9d72067",
   "metadata": {},
   "source": [
    "## **Save the summary report in product_summary_report.csv and customer_summary_report.csv:**"
   ]
  },
  {
   "cell_type": "code",
   "execution_count": 75,
   "id": "6e163b26-3b36-47c6-bad0-8459535745ad",
   "metadata": {},
   "outputs": [],
   "source": [
    "summ_total_sales_quantity_each_product.to_csv(\"product_summary_report.csv\")\n",
    "summ_avg_trans_per_cust.to_csv(\"customer_summary_report.csv\")"
   ]
  },
  {
   "cell_type": "code",
   "execution_count": null,
   "id": "1b4fac47-8a19-4e7d-99b9-a7bb359dbed3",
   "metadata": {},
   "outputs": [],
   "source": []
  }
 ],
 "metadata": {
  "kernelspec": {
   "display_name": "Python 3 (ipykernel)",
   "language": "python",
   "name": "python3"
  },
  "language_info": {
   "codemirror_mode": {
    "name": "ipython",
    "version": 3
   },
   "file_extension": ".py",
   "mimetype": "text/x-python",
   "name": "python",
   "nbconvert_exporter": "python",
   "pygments_lexer": "ipython3",
   "version": "3.11.0"
  }
 },
 "nbformat": 4,
 "nbformat_minor": 5
}
